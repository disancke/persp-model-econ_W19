{
 "cells": [
  {
   "cell_type": "code",
   "execution_count": 66,
   "metadata": {},
   "outputs": [],
   "source": [
    "import numpy as np\n",
    "import pandas as pd\n",
    "import scipy.stats as sts\n",
    "import scipy.integrate as intgr\n",
    "import scipy.optimize as opt\n",
    "import matplotlib.pyplot as plt\n",
    "import numpy.linalg as lin"
   ]
  },
  {
   "cell_type": "markdown",
   "metadata": {},
   "source": [
    "# Problem 1"
   ]
  },
  {
   "cell_type": "code",
   "execution_count": 120,
   "metadata": {},
   "outputs": [
    {
     "data": {
      "text/plain": [
       "(0, 150000)"
      ]
     },
     "execution_count": 120,
     "metadata": {},
     "output_type": "execute_result"
    },
    {
     "data": {
      "image/png": "[encoded data removed]",
      "text/plain": [
       "<Figure size 432x288 with 1 Axes>"
      ]
     },
     "metadata": {
      "needs_background": "light"
     },
     "output_type": "display_data"
    }
   ],
   "source": [
    "# 1(a)\n",
    "ics = np.loadtxt('data/incomes.txt')\n",
    "\n",
    "num_bins = 30\n",
    "\n",
    "plt.hist(ics, num_bins, normed=True, edgecolor='k')\n",
    "\n",
    "plt.title('Annual incomes of MACSS students: 2018-2020', fontsize=20)\n",
    "plt.xlabel(r'Annual incomes')\n",
    "plt.ylabel(r'Percent of incomes')\n",
    "plt.xlim([0, 150000])"
   ]
  },
  {
   "cell_type": "code",
   "execution_count": 104,
   "metadata": {},
   "outputs": [],
   "source": [
    "# 1(b)\n",
    "\n",
    "def data_moments(xvals):\n",
    "\n",
    "    mean_data = xvals.mean()\n",
    "    std_data = xvals.std()\n",
    "    \n",
    "    return mean_data, std_data\n",
    "\n",
    "def LN_pdf(xvals, mu, sigma):\n",
    "\n",
    "    pdf_vals = np.float64(((1 / (np.sqrt(2 * np.pi) * sigma * xvals)) *\n",
    "                          np.exp((-1.0 / 2.0) *\n",
    "                          (((np.log(xvals) - mu) / sigma) ** 2))))\n",
    "\n",
    "    return pdf_vals\n",
    "\n",
    "# def model_moments(mu, sigma, cut_lb, cut_ub):\n",
    "\n",
    "#     xfx = lambda x: x * trunc_lognorm_pdf(x, mu, sigma, cut_lb, cut_ub)\n",
    "#     (mean_model, m_m_err) = intgr.quad(xfx, cut_lb, cut_ub)\n",
    "#     x2fx = lambda x: ((x - mean_model) ** 2) * trunc_lognorm_pdf(x, mu, sigma, cut_lb, cut_ub) \n",
    "#     (var_model, v_m_err) = intgr.quad(x2fx, cut_lb, cut_ub)\n",
    "#     std_model = np.sqrt(var_model)\n",
    "    \n",
    "#     return mean_model, std_model\n",
    "\n",
    "# def model_moments(mu, sigma, cut_lb, cut_ub):\n",
    "\n",
    "#     xfx = lambda x: x * LN_pdf(x, mu, sigma, cut_lb, cut_ub)\n",
    "#     (mean_model, m_m_err) = intgr.quad(xfx, cut_lb, cut_ub)\n",
    "#     x2fx = lambda x: ((x - mean_model) ** 2) * LN_pdf(x, mu, sigma, cut_lb, cut_ub) \n",
    "#     (var_model, v_m_err) = intgr.quad(x2fx, cut_lb, cut_ub)\n",
    "#     std_model = np.sqrt(var_model)\n",
    "    \n",
    "#     return mean_model, std_model\n",
    "\n",
    "# def err_vec(xvals, mu, sigma, cut_lb, cut_ub, simple):\n",
    "\n",
    "#     mean_data, std_data = data_moments(xvals)\n",
    "#     moms_data = np.array([[mean_data], [std_data]])\n",
    "#     mean_model, std_model = model_moments(mu, sigma, cut_lb, cut_ub)\n",
    "#     moms_model = np.array([[mean_model], [std_model]])\n",
    "#     if simple:\n",
    "#         err_vec = moms_model - moms_data\n",
    "#     else:\n",
    "#         err_vec = (moms_model - moms_data) / moms_data\n",
    "    \n",
    "#     return err_vec\n",
    "\n",
    "def model_moments(mu, sigma):\n",
    "\n",
    "    mean_model = np.exp(mu + 0.5 * sigma ** 2)\n",
    "    std_model = np.sqrt((np.exp(sigma ** 2) - 1) * np.exp(2 * mu + sigma ** 2))\n",
    "    return mean_model, std_model\n",
    "\n",
    "def err_vec(xvals, mu, sigma, simple):\n",
    "\n",
    "    mean_data, std_data = data_moments(xvals)\n",
    "    moms_data = np.array([[mean_data], [std_data]])\n",
    "    mean_model, std_model = model_moments(mu, sigma)\n",
    "    moms_model = np.array([[mean_model], [std_model]])\n",
    "    if simple:\n",
    "        err_vec = moms_model - moms_data\n",
    "    else:\n",
    "        err_vec = (moms_model - moms_data) / moms_data\n",
    "    \n",
    "    return err_vec\n",
    "\n",
    "# def criterion(params, *args):\n",
    "\n",
    "#     mu, sigma = params\n",
    "#     xvals, cut_lb, cut_ub, W = args\n",
    "#     err = err_vec(xvals, mu, sigma, cut_lb, cut_ub, simple=False)\n",
    "#     crit_val = err.T @ W @ err\n",
    "    \n",
    "#     return crit_val\n",
    "\n",
    "def criterion(params, *args):\n",
    "\n",
    "    mu, sigma = params\n",
    "    xvals, W = args\n",
    "    err = err_vec(xvals, mu, sigma, simple=False)\n",
    "    crit_val = err.T @ W @ err\n",
    "    \n",
    "    return crit_val"
   ]
  },
  {
   "cell_type": "code",
   "execution_count": 105,
   "metadata": {},
   "outputs": [
    {
     "name": "stdout",
     "output_type": "stream",
     "text": [
      "mu_GMM1= 11.331880866982898  sig_GMM1= 0.20869665246828492\n"
     ]
    },
    {
     "data": {
      "text/plain": [
       "      fun: array([[1.00518646e-15]])\n",
       " hess_inv: <2x2 LbfgsInvHessProduct with dtype=float64>\n",
       "      jac: array([1.56166349e-08, 3.01504116e-08])\n",
       "  message: b'CONVERGENCE: REL_REDUCTION_OF_F_<=_FACTR*EPSMCH'\n",
       "     nfev: 51\n",
       "      nit: 12\n",
       "   status: 0\n",
       "  success: True\n",
       "        x: array([11.33188087,  0.20869665])"
      ]
     },
     "execution_count": 105,
     "metadata": {},
     "output_type": "execute_result"
    }
   ],
   "source": [
    "# mu_init = 11\n",
    "# sig_init = 0.5\n",
    "# params_init = np.array([mu_init, sig_init])\n",
    "# W_hat = np.eye(2)\n",
    "# gmm_args = (ics, 0.0, 150000.0, W_hat)\n",
    "# results = opt.minimize(criterion, params_init, args=(gmm_args), tol=1e-14,\n",
    "#                        method='L-BFGS-B', bounds=((1e-10, None), (1e-10, None)))\n",
    "# mu_GMM1, sig_GMM1 = results.x\n",
    "# print('mu_GMM1=', mu_GMM1, ' sig_GMM1=', sig_GMM1)\n",
    "# results\n",
    "\n",
    "mu_init = 11\n",
    "sig_init = 0.5\n",
    "params_init = np.array([mu_init, sig_init])\n",
    "W_hat = np.eye(2)\n",
    "gmm_args = (ics, W_hat)\n",
    "results = opt.minimize(criterion, params_init, args=(gmm_args), tol=1e-14,\n",
    "                       method='L-BFGS-B', bounds=((1e-10, None), (1e-10, None)))\n",
    "mu_GMM1, sig_GMM1 = results.x\n",
    "print('mu_GMM1=', mu_GMM1, ' sig_GMM1=', sig_GMM1)\n",
    "results"
   ]
  },
  {
   "cell_type": "code",
   "execution_count": 106,
   "metadata": {},
   "outputs": [
    {
     "name": "stdout",
     "output_type": "stream",
     "text": [
      "Mean of points = 85276.82360625811 , Standard deviation of points = 17992.542128046523\n",
      "Mean of model = 85276.82542230906 , Standard deviation of model = 17992.541705444266\n",
      "Error vector= [ 2.12959497e-08 -2.34876347e-08]\n",
      "GMM criterion function: [[1.00518646e-15]]\n"
     ]
    },
    {
     "data": {
      "text/plain": [
       "      fun: array([[1.00518646e-15]])\n",
       " hess_inv: <2x2 LbfgsInvHessProduct with dtype=float64>\n",
       "      jac: array([1.56166349e-08, 3.01504116e-08])\n",
       "  message: b'CONVERGENCE: REL_REDUCTION_OF_F_<=_FACTR*EPSMCH'\n",
       "     nfev: 51\n",
       "      nit: 12\n",
       "   status: 0\n",
       "  success: True\n",
       "        x: array([11.33188087,  0.20869665])"
      ]
     },
     "execution_count": 106,
     "metadata": {},
     "output_type": "execute_result"
    }
   ],
   "source": [
    "# mean_data, std_data = data_moments(ics)\n",
    "# mean_model, std_model = model_moments(mu_GMM1, sig_GMM1, 0.0, 150000.0)\n",
    "# err1 = err_vec(ics, mu_GMM1, sig_GMM1, 0.0, 150000.0, False).reshape(2,)\n",
    "# print('Mean of points =', mean_data, ', Standard deviation of points =', std_data)\n",
    "# print('Mean of model =', mean_model, ', Standard deviation of model =', std_model)\n",
    "# print('Error vector=', err1)\n",
    "# print('GMM criterion function:',results.fun)\n",
    "# results\n",
    "\n",
    "mean_data, std_data = data_moments(ics)\n",
    "mean_model, std_model = model_moments(mu_GMM1, sig_GMM1)\n",
    "err1 = err_vec(ics, mu_GMM1, sig_GMM1, False).reshape(2,)\n",
    "print('Mean of points =', mean_data, ', Standard deviation of points =', std_data)\n",
    "print('Mean of model =', mean_model, ', Standard deviation of model =', std_model)\n",
    "print('Error vector=', err1)\n",
    "print('GMM criterion function:',results.fun)\n",
    "results"
   ]
  },
  {
   "cell_type": "code",
   "execution_count": 118,
   "metadata": {},
   "outputs": [
    {
     "name": "stderr",
     "output_type": "stream",
     "text": [
      "D:\\Anaconda3\\lib\\site-packages\\ipykernel_launcher.py:12: RuntimeWarning: divide by zero encountered in true_divide\n",
      "  if sys.path[0] == '':\n",
      "D:\\Anaconda3\\lib\\site-packages\\ipykernel_launcher.py:14: RuntimeWarning: divide by zero encountered in log\n",
      "  \n",
      "D:\\Anaconda3\\lib\\site-packages\\ipykernel_launcher.py:14: RuntimeWarning: invalid value encountered in multiply\n",
      "  \n"
     ]
    },
    {
     "data": {
      "text/plain": [
       "<matplotlib.legend.Legend at 0x1e7ca3cdda0>"
      ]
     },
     "execution_count": 118,
     "metadata": {},
     "output_type": "execute_result"
    },
    {
     "data": {
      "image/png": "[encoded data removed]",
      "text/plain": [
       "<Figure size 432x288 with 1 Axes>"
      ]
     },
     "metadata": {
      "needs_background": "light"
     },
     "output_type": "display_data"
    }
   ],
   "source": [
    "num_bins = 30\n",
    "\n",
    "plt.hist(ics, num_bins, normed=True, edgecolor='k')\n",
    "\n",
    "plt.title('Annual incomes of MACSS students: 2018-2020', fontsize=20)\n",
    "plt.xlabel(r'Annual incomes')\n",
    "plt.ylabel(r'Percent of incomes')\n",
    "plt.xlim([0, 150000])\n",
    "\n",
    "dist_ics = np.linspace(0, 150000, 1000)\n",
    "plt.plot(dist_ics, LN_pdf(dist_ics, mu_GMM1, sig_GMM1),\n",
    "         linewidth=2, color='r', label='1: $\\mu_{GMM1}$,$\\sigma_{GMM1}$')\n",
    "plt.legend(loc='upper left')"
   ]
  },
  {
   "cell_type": "code",
   "execution_count": 107,
   "metadata": {},
   "outputs": [
    {
     "name": "stdout",
     "output_type": "stream",
     "text": [
      "The Variance Co-Variance Matrix is \n",
      " [[4.45167045e-02 1.68385256e+03]\n",
      " [1.68385256e+03 9.54184435e+08]]\n",
      "The Weighting Matrix is \n",
      " [[ 2.40701670e+01 -4.24767065e-05]\n",
      " [-4.24767065e-05  1.12297421e-09]]\n"
     ]
    }
   ],
   "source": [
    "# 1(c)\n",
    "\n",
    "def get_Err_mat2(pts, mu, sigma, simple=False):\n",
    "\n",
    "    R = 2\n",
    "    N = len(ics)\n",
    "    Err_mat = np.zeros((R, N))\n",
    "    mean_model, std_model = model_moments(mu, sigma)\n",
    "    if simple:\n",
    "        Err_mat[0, :] = pts - mean_model\n",
    "        Err_mat[1, :] = ((mean_data - pts) ** 2) - std_model\n",
    "    else:\n",
    "        Err_mat[0, :] = (pts - mean_model) / mean_model\n",
    "        Err_mat[1, :] = (((mean_data - pts) ** 2) - std_model) / std_model\n",
    "    \n",
    "    return Err_mat\n",
    "\n",
    "Err_mat = get_Err_mat2(ics, mu_GMM1, sig_GMM1, False)\n",
    "VCV2 = (1 / ics.shape[0]) * (Err_mat @ Err_mat.T)\n",
    "print(\"The Variance Co-Variance Matrix is \\n\", VCV2)\n",
    "W_hat2 = lin.inv(VCV2)\n",
    "print(\"The Weighting Matrix is \\n\", W_hat2)"
   ]
  },
  {
   "cell_type": "code",
   "execution_count": 108,
   "metadata": {},
   "outputs": [
    {
     "name": "stdout",
     "output_type": "stream",
     "text": [
      "mu_GMM2= 11.331880842298673  sig_GMM2= 0.2086966480920631\n"
     ]
    }
   ],
   "source": [
    "params_init = np.array([mu_GMM1, sig_GMM1])\n",
    "gmm_args = (ics, W_hat2)\n",
    "results_2 = opt.minimize(criterion, params_init, args=(gmm_args), tol=1e-14,\n",
    "                       method='L-BFGS-B', bounds=((1e-10, None), (1e-10, None)))\n",
    "mu_GMM2, sig_GMM2 = results_2.x\n",
    "print('mu_GMM2=', mu_GMM2, ' sig_GMM2=', sig_GMM2)"
   ]
  },
  {
   "cell_type": "code",
   "execution_count": 109,
   "metadata": {},
   "outputs": [
    {
     "name": "stdout",
     "output_type": "stream",
     "text": [
      "Mean of points = 85276.82360625811 , Standard Deviation of points = 17992.542128046523\n",
      "Mean of model = 85276.82323943319 , Standard Deviation of model = 17992.540859312823\n",
      "Error vector= [-4.30157821e-09 -7.05144215e-08]\n",
      "GMM criterion function: [[4.4535838e-16]]\n"
     ]
    }
   ],
   "source": [
    "mean_model2, std_model2 = model_moments(mu_GMM2, sig_GMM2)\n",
    "err2 = err_vec(ics, mu_GMM2, sig_GMM2, False).reshape(2,)\n",
    "print('Mean of points =', mean_data, ', Standard Deviation of points =', std_data)\n",
    "print('Mean of model =', mean_model2, ', Standard Deviation of model =', std_model2)\n",
    "print('Error vector=', err2)\n",
    "print('GMM criterion function:', results_2.fun)"
   ]
  },
  {
   "cell_type": "code",
   "execution_count": 110,
   "metadata": {},
   "outputs": [
    {
     "name": "stderr",
     "output_type": "stream",
     "text": [
      "D:\\Anaconda3\\lib\\site-packages\\ipykernel_launcher.py:12: RuntimeWarning: divide by zero encountered in true_divide\n",
      "  if sys.path[0] == '':\n",
      "D:\\Anaconda3\\lib\\site-packages\\ipykernel_launcher.py:14: RuntimeWarning: divide by zero encountered in log\n",
      "  \n",
      "D:\\Anaconda3\\lib\\site-packages\\ipykernel_launcher.py:14: RuntimeWarning: invalid value encountered in multiply\n",
      "  \n"
     ]
    },
    {
     "data": {
      "image/png": "[encoded data removed]",
      "text/plain": [
       "<Figure size 432x288 with 1 Axes>"
      ]
     },
     "metadata": {
      "needs_background": "light"
     },
     "output_type": "display_data"
    }
   ],
   "source": [
    "# num_bins = 30\n",
    "\n",
    "# plt.hist(ics, num_bins, normed=True, edgecolor='k')\n",
    "\n",
    "# plt.title('Annual incomes of MACSS students: 2018-2020', fontsize=20)\n",
    "# plt.xlabel(r'Annual incomes')\n",
    "# plt.ylabel(r'Percent of incomes')\n",
    "# plt.xlim([0, 150000])\n",
    "\n",
    "# dist_ics = np.linspace(0, 150000, 1000)\n",
    "# plt.plot(dist_ics, trunc_lognorm_pdf(dist_ics, mu_GMM1, sig_GMM1, 0.0, 150000),\n",
    "#          linewidth=2, color='r', label='1: $\\mu_{GMM1}$,$\\sigma_{GMM1}$')\n",
    "# plt.legend(loc='upper left')\n",
    "\n",
    "# plt.plot(dist_ics, trunc_lognorm_pdf(dist_ics, mu_GMM2, sig_GMM2, 0.0, 150000),\n",
    "#          linewidth=2, color='b', label='2: $\\mu_{GMM2}$,$\\sigma_{GMM2}$')\n",
    "# plt.legend(loc='upper left')\n",
    "\n",
    "# plt.show()\n",
    "\n",
    "num_bins = 30\n",
    "\n",
    "plt.hist(ics, num_bins, normed=True, edgecolor='k')\n",
    "\n",
    "plt.title('Annual incomes of MACSS students: 2018-2020', fontsize=20)\n",
    "plt.xlabel(r'Annual incomes')\n",
    "plt.ylabel(r'Percent of incomes')\n",
    "plt.xlim([0, 150000])\n",
    "\n",
    "dist_ics = np.linspace(0, 150000, 1000)\n",
    "plt.plot(dist_ics, LN_pdf(dist_ics, mu_GMM1, sig_GMM1),\n",
    "         linewidth=2, color='r', label='1: $\\mu_{GMM1}$,$\\sigma_{GMM1}$')\n",
    "plt.legend(loc='upper left')\n",
    "\n",
    "plt.plot(dist_ics, LN_pdf(dist_ics, mu_GMM2, sig_GMM2),\n",
    "         linewidth=2, color='b', label='2: $\\mu_{GMM2}$,$\\sigma_{GMM2}$')\n",
    "plt.legend(loc='upper left')\n",
    "\n",
    "plt.show()"
   ]
  },
  {
   "cell_type": "code",
   "execution_count": 111,
   "metadata": {},
   "outputs": [],
   "source": [
    "# 1(d)\n",
    "\n",
    "def data_moments2(xvals):\n",
    "\n",
    "    qtl1_data = xvals[xvals <75000].shape[0] / xvals.shape[0]\n",
    "    qtl2_data = (xvals[(xvals >=75000) & (xvals < 100000)].shape[0] /\n",
    "                  xvals.shape[0])\n",
    "    qtl3_data = xvals[xvals >= 100000].shape[0] / xvals.shape[0]\n",
    "\n",
    "    return qtl1_data, qtl2_data, qtl3_data\n",
    "\n",
    "def model_moments2(mu, sigma):\n",
    "\n",
    "    xfx = lambda x: LN_pdf(x, mu, sigma)\n",
    "    (qtl1_mod, bp_1_err) = intgr.quad(xfx, 0.0, 75000)\n",
    "    (qtl2_mod, bp_2_err) = intgr.quad(xfx, 75000, 100000)\n",
    "    (qtl3_mod, bp_3_err) = intgr.quad(xfx, 100000, np.inf)\n",
    "    \n",
    "    return qtl1_mod, qtl2_mod, qtl3_mod\n",
    "\n",
    "def err_vec2(xvals, mu, sigma, simple):\n",
    "\n",
    "    qtl1_data, qtl2_data, qtl3_data = data_moments2(xvals)\n",
    "    moms_data = np.array([[qtl1_data], [qtl2_data], [qtl3_data]])\n",
    "    qtl1_mod, qtl2_mod, qtl3_mod = model_moments2(mu, sigma)\n",
    "    moms_model = np.array([[qtl1_mod], [qtl2_mod], [qtl3_mod]])\n",
    "    if simple:\n",
    "        err_vec = moms_model - moms_data\n",
    "    else:\n",
    "        err_vec = (moms_model - moms_data) / moms_data\n",
    "    \n",
    "    return err_vec\n",
    "\n",
    "def criterion2(params, *args):\n",
    "\n",
    "    mu, sigma = params\n",
    "    xvals, W = args\n",
    "    err = err_vec2(xvals, mu, sigma, simple=False)\n",
    "    crit_val = err.T @ W @ err\n",
    "    \n",
    "    return crit_val"
   ]
  },
  {
   "cell_type": "code",
   "execution_count": 112,
   "metadata": {},
   "outputs": [
    {
     "name": "stdout",
     "output_type": "stream",
     "text": [
      "mu_GMM1_qtl= 11.335681327441126  sig_GMM1_qlt= 0.2105984536986085\n",
      "GMM criterion function: [[2.53381598e-15]]\n",
      "The three data moments are (0.3, 0.5, 0.2)\n",
      "The three estimated model moments are (0.30000000358656426, 0.5000000059034057, 0.19999999051003048)\n"
     ]
    },
    {
     "name": "stderr",
     "output_type": "stream",
     "text": [
      "D:\\Anaconda3\\lib\\site-packages\\ipykernel_launcher.py:17: IntegrationWarning: The integral is probably divergent, or slowly convergent.\n",
      "D:\\Anaconda3\\lib\\site-packages\\ipykernel_launcher.py:17: IntegrationWarning: The algorithm does not converge.  Roundoff error is detected\n",
      "  in the extrapolation table.  It is assumed that the requested tolerance\n",
      "  cannot be achieved, and that the returned result (if full_output = 1) is \n",
      "  the best which can be obtained.\n"
     ]
    }
   ],
   "source": [
    "mu_init = 11\n",
    "sig_init = 0.2\n",
    "params_init2 = np.array([mu_init, sig_init])\n",
    "W_hat_qtl = np.eye(3)\n",
    "gmm_args = (ics, W_hat_qtl)\n",
    "results_qtl = opt.minimize(criterion2, params_init2, args=(gmm_args), tol=1e-14,\n",
    "                       method='L-BFGS-B', bounds=((1e-10, None), (1e-10, None)))\n",
    "mu_GMM1_qtl, sig_GMM1_qtl = results_qtl.x\n",
    "print('mu_GMM1_qtl=', mu_GMM1_qtl, ' sig_GMM1_qlt=', sig_GMM1_qtl)\n",
    "print('GMM criterion function:', results_qtl.fun)\n",
    "print('The three data moments are', data_moments2(ics))\n",
    "print('The three estimated model moments are', model_moments2(mu_GMM1_qtl, sig_GMM1_qtl))"
   ]
  },
  {
   "cell_type": "code",
   "execution_count": 113,
   "metadata": {},
   "outputs": [
    {
     "name": "stderr",
     "output_type": "stream",
     "text": [
      "D:\\Anaconda3\\lib\\site-packages\\ipykernel_launcher.py:12: RuntimeWarning: divide by zero encountered in true_divide\n",
      "  if sys.path[0] == '':\n",
      "D:\\Anaconda3\\lib\\site-packages\\ipykernel_launcher.py:14: RuntimeWarning: divide by zero encountered in log\n",
      "  \n",
      "D:\\Anaconda3\\lib\\site-packages\\ipykernel_launcher.py:14: RuntimeWarning: invalid value encountered in multiply\n",
      "  \n"
     ]
    },
    {
     "data": {
      "text/plain": [
       "<matplotlib.legend.Legend at 0x1e7ca4e5080>"
      ]
     },
     "execution_count": 113,
     "metadata": {},
     "output_type": "execute_result"
    },
    {
     "data": {
      "image/png": "[encoded data removed]",
      "text/plain": [
       "<Figure size 432x288 with 1 Axes>"
      ]
     },
     "metadata": {
      "needs_background": "light"
     },
     "output_type": "display_data"
    }
   ],
   "source": [
    "num_bins = 30\n",
    "\n",
    "plt.hist(ics, num_bins, normed=True, edgecolor='k')\n",
    "\n",
    "plt.title('Annual incomes of MACSS students: 2018-2020', fontsize=20)\n",
    "plt.xlabel(r'Annual incomes')\n",
    "plt.ylabel(r'Percent of incomes')\n",
    "plt.xlim([0, 150000])\n",
    "\n",
    "dist_ics = np.linspace(0, 150000, 1000)\n",
    "plt.plot(dist_ics, LN_pdf(dist_ics, mu_GMM1_qtl, sig_GMM1_qtl),\n",
    "         linewidth=2, color='r', label='1: $\\mu_{GMM1qtl}$,$\\sigma_{GMM1qtl}$')\n",
    "plt.legend(loc='upper left')"
   ]
  },
  {
   "cell_type": "code",
   "execution_count": 114,
   "metadata": {},
   "outputs": [
    {
     "name": "stdout",
     "output_type": "stream",
     "text": [
      "The Variance Co-Variance Matrix is \n",
      " [[ 2.33333328 -0.99999998 -1.00000004]\n",
      " [-0.99999998  0.99999998 -1.00000004]\n",
      " [-1.00000004 -1.00000004  4.00000038]]\n",
      "The Weighting Matrix is \n",
      " [[ 0.25761773 -0.14958449 -0.01246537]\n",
      " [-0.14958449  0.11911357 -0.07340719]\n",
      " [-0.01246537 -0.07340719  0.20221605]]\n"
     ]
    }
   ],
   "source": [
    "# 1(e)\n",
    "\n",
    "def get_Err_mat2(ics, mu, sigma, simple=False):\n",
    "\n",
    "    R = 3\n",
    "    N = len(ics)\n",
    "    Err_mat = np.zeros((R, N))\n",
    "    pct_1_mod, pct_2_mod, pct_3_mod = model_moments2(mu, sigma)\n",
    "    pts_in_grp1 = ics < 75000\n",
    "    pts_in_grp2 = (ics >= 75000) & (ics < 100000)\n",
    "    pts_in_grp3 = ics >= 100000\n",
    "\n",
    "    if simple:\n",
    "        Err_mat[0, :] = pts_in_grp1 - pct_1_mod\n",
    "        Err_mat[1, :] = pts_in_grp2 - pct_2_mod\n",
    "        Err_mat[2, :] = pts_in_grp3 - pct_3_mod\n",
    "    else:\n",
    "        Err_mat[0, :] = (pts_in_grp1 - pct_1_mod) / pct_1_mod\n",
    "        Err_mat[1, :] = (pts_in_grp2 - pct_2_mod) / pct_2_mod\n",
    "        Err_mat[2, :] = (pts_in_grp3 - pct_3_mod) / pct_3_mod\n",
    "    \n",
    "    return Err_mat\n",
    "\n",
    "\n",
    "Err_mat_qtl = get_Err_mat2(ics, mu_GMM1_qtl, sig_GMM1_qtl, False)\n",
    "VCV2_qtl = (1 / ics.shape[0]) * (Err_mat_qtl @ Err_mat_qtl.T)\n",
    "print(\"The Variance Co-Variance Matrix is \\n\", VCV2_qtl)\n",
    "# We use the pseudo-inverse command here because the VCV matrix is poorly conditioned. Many thanks to Evans.\n",
    "W_hat2_qtl = lin.pinv(VCV2_qtl)\n",
    "print(\"The Weighting Matrix is \\n\", W_hat2_qtl)"
   ]
  },
  {
   "cell_type": "code",
   "execution_count": 115,
   "metadata": {},
   "outputs": [
    {
     "name": "stdout",
     "output_type": "stream",
     "text": [
      "mu_GMM2_qtl= 11.335681327441126  sig_GMM2_qtl= 0.2105984536986085\n",
      "GMM criterion function: [[5.62876099e-16]]\n",
      "The three data moments are (0.3, 0.5, 0.2)\n",
      "The three estimated model moments are (0.30000000358656426, 0.5000000059034057, 0.19999999051003048)\n"
     ]
    }
   ],
   "source": [
    "params_init = np.array([mu_GMM1_qtl, sig_GMM1_qtl])\n",
    "gmm_args = (ics, W_hat2_qtl)\n",
    "results_2_qtl = opt.minimize(criterion2, params_init, args=(gmm_args), tol=1e-14,\n",
    "                       method='L-BFGS-B', bounds=((1e-10, None), (1e-10, None)))\n",
    "mu_GMM2_qtl, sig_GMM2_qtl = results_2_qtl.x\n",
    "print('mu_GMM2_qtl=', mu_GMM2_qtl, ' sig_GMM2_qtl=', sig_GMM2_qtl)\n",
    "print('GMM criterion function:', results_2_qtl.fun)\n",
    "print('The three data moments are', data_moments2(ics))\n",
    "print('The three estimated model moments are', model_moments2(mu_GMM2_qtl, sig_GMM2_qtl))"
   ]
  },
  {
   "cell_type": "code",
   "execution_count": 116,
   "metadata": {},
   "outputs": [
    {
     "name": "stderr",
     "output_type": "stream",
     "text": [
      "D:\\Anaconda3\\lib\\site-packages\\ipykernel_launcher.py:12: RuntimeWarning: divide by zero encountered in true_divide\n",
      "  if sys.path[0] == '':\n",
      "D:\\Anaconda3\\lib\\site-packages\\ipykernel_launcher.py:14: RuntimeWarning: divide by zero encountered in log\n",
      "  \n",
      "D:\\Anaconda3\\lib\\site-packages\\ipykernel_launcher.py:14: RuntimeWarning: invalid value encountered in multiply\n",
      "  \n"
     ]
    },
    {
     "data": {
      "image/png": "[encoded data removed]",
      "text/plain": [
       "<Figure size 432x288 with 1 Axes>"
      ]
     },
     "metadata": {
      "needs_background": "light"
     },
     "output_type": "display_data"
    }
   ],
   "source": [
    "plt.hist(ics, num_bins, normed=True, edgecolor='k')\n",
    "\n",
    "plt.title('Annual incomes of MACSS students: 2018-2020', fontsize=20)\n",
    "plt.xlabel(r'Annual incomes')\n",
    "plt.ylabel(r'Percent of incomes')\n",
    "plt.xlim([0, 150000])\n",
    "\n",
    "dist_ics = np.linspace(0, 150000, 1000)\n",
    "plt.plot(dist_ics, LN_pdf(dist_ics, mu_GMM1_qtl, sig_GMM1_qtl),\n",
    "         linewidth=2, color='r', label='1: $\\mu_{GMM1qtl}$,$\\sigma_{GMM1qtl}$')\n",
    "plt.legend(loc='upper left')\n",
    "\n",
    "plt.plot(dist_ics, LN_pdf(dist_ics, mu_GMM2_qtl, sig_GMM2_qtl),\n",
    "         linewidth=2, color='b', label='2: $\\mu_{GMM2qtl}$,$\\sigma_{GMM2qtl}$')\n",
    "plt.legend(loc='upper left')\n",
    "\n",
    "plt.show()"
   ]
  },
  {
   "cell_type": "code",
   "execution_count": 117,
   "metadata": {},
   "outputs": [
    {
     "name": "stdout",
     "output_type": "stream",
     "text": [
      "The best model would be the two moments estimation with two step weighted matrix since it has lowest GMM criterion value.\n",
      "The best estimator of mu is 11.331880842298673 , the best estimator of sigma is 0.2086966480920631 , and the corresponding GMM criterion value is [[4.4535838e-16]]\n",
      "The other three candidates are competitive though, with low GMM criterion value as well. This is a clutch game!\n"
     ]
    }
   ],
   "source": [
    "print('The best model would be the two moments estimation with two step weighted matrix since it has lowest GMM criterion value.')\n",
    "print('The best estimator of mu is', mu_GMM2, ', the best estimator of sigma is', sig_GMM2, ', and the corresponding GMM criterion value is', results_2.fun)\n",
    "print('The other three candidates are competitive though, with low GMM criterion value as well. This is a clutch game!')"
   ]
  },
  {
   "cell_type": "markdown",
   "metadata": {},
   "source": [
    "# Problem 2"
   ]
  },
  {
   "cell_type": "code",
   "execution_count": 114,
   "metadata": {},
   "outputs": [],
   "source": [
    "data = pd.read_csv(\"data/sick.txt\")"
   ]
  },
  {
   "cell_type": "code",
   "execution_count": 117,
   "metadata": {},
   "outputs": [],
   "source": [
    "def err_vec3(data, b0, b1, b2, b3):\n",
    "    \n",
    "    err_vec = data['sick'] - (b0 + b1 * data['age'] + b2 * data['children'] + b3 * data['avgtemp_winter'])\n",
    "    \n",
    "    return err_vec\n",
    "\n",
    "def criterion3(params, *args):\n",
    "\n",
    "    b0, b1, b2, b3 = params\n",
    "    data, W = args\n",
    "    err_vec = err_vec3(data, b0, b1, b2, b3)\n",
    "    crit_val = err_vec.T @ W @ err_vec\n",
    "    \n",
    "    return crit_val"
   ]
  },
  {
   "cell_type": "code",
   "execution_count": 120,
   "metadata": {},
   "outputs": [
    {
     "name": "stdout",
     "output_type": "stream",
     "text": [
      "beta_0 = 0.2516448636612042\n",
      "beta_1 = 0.012933470965564249\n",
      "beta_2 = 0.40050098470289774\n",
      "beta_3 = -0.009991709711286762\n",
      "GMM criterion function: 0.0018212898060782808\n"
     ]
    }
   ],
   "source": [
    "b0, b1, b2, b3 = (1, 0, 0, 0)\n",
    "params_init = np.array([b0, b1, b2, b3])\n",
    "W_hat = np.eye(data.shape[0])\n",
    "gmm_args = (data, W_hat)\n",
    "results = opt.minimize(criterion3, params_init, args=(gmm_args), tol=1e-14,method='L-BFGS-B')\n",
    "b0_GMM, b1_GMM, b2_GMM, b3_GMM = results.x\n",
    "\n",
    "print('beta_0 =', b0_GMM)\n",
    "print('beta_1 =', b1_GMM)\n",
    "print('beta_2 =', b2_GMM)\n",
    "print('beta_3 =', b3_GMM)\n",
    "print('GMM criterion function:',results.fun)"
   ]
  }
 ],
 "metadata": {
  "kernelspec": {
   "display_name": "Python 3",
   "language": "python",
   "name": "python3"
  },
  "language_info": {
   "codemirror_mode": {
    "name": "ipython",
    "version": 3
   },
   "file_extension": ".py",
   "mimetype": "text/x-python",
   "name": "python",
   "nbconvert_exporter": "python",
   "pygments_lexer": "ipython3",
   "version": "3.7.2"
  }
 },
 "nbformat": 4,
 "nbformat_minor": 2
}
